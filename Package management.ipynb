{
 "metadata": {
  "name": "",
  "signature": "sha256:a682c7d80e307bb0e66f85553f2d4930c450b7707d4a2912196ded245b88a55f"
 },
 "nbformat": 3,
 "nbformat_minor": 0,
 "worksheets": [
  {
   "cells": [
    {
     "cell_type": "code",
     "collapsed": false,
     "input": [
      "from path_helpers import path\n",
      "from pygtkhelpers.ui.dialogs import select_folder\n",
      "\n",
      "folder = None\n",
      "unicast_folder = None"
     ],
     "language": "python",
     "metadata": {},
     "outputs": [],
     "prompt_number": 6
    },
    {
     "cell_type": "code",
     "collapsed": false,
     "input": [
      "from cStringIO import StringIO\n",
      "import re\n",
      "import jinja2\n",
      "\n",
      "\n",
      "cre_package = re.compile(r'(?P<name>.*?)-(all-in-one|MKL|\\d+)')\n",
      "\n",
      "def apply_to_packages(packages, func):\n",
      "    results = []\n",
      "    for package_path in packages:\n",
      "        match = cre_package.search(package_path.name)\n",
      "        if match:\n",
      "            name = match.group('name').replace('-', '_')\n",
      "            results.append(func(name, package_path))\n",
      "        else:\n",
      "            results.append(None)\n",
      "    return results"
     ],
     "language": "python",
     "metadata": {},
     "outputs": [],
     "prompt_number": 8
    },
    {
     "cell_type": "code",
     "collapsed": false,
     "input": [
      "if folder is None:\n",
      "    folder = path('~').expand()\n",
      "folder = select_folder(folder=folder)"
     ],
     "language": "python",
     "metadata": {},
     "outputs": [
      {
       "output_type": "stream",
       "stream": "stdout",
       "text": [
        "<enum GTK_RESPONSE_OK of type GtkResponseType>\n",
        "C:\\Users\\CHRIST~1\\Downloads\\pythonlibs\n"
       ]
      }
     ],
     "prompt_number": 24
    },
    {
     "cell_type": "code",
     "collapsed": false,
     "input": [
      "packages = path(folder).files('*.exe')"
     ],
     "language": "python",
     "metadata": {},
     "outputs": [],
     "prompt_number": 4
    },
    {
     "cell_type": "code",
     "collapsed": false,
     "input": [
      "if unicast_folder is None:\n",
      "    unicast_folder = path('~').expand()\n",
      "unicast_folder = select_folder(folder=unicast_folder)\n",
      "\n",
      "\n",
      "def extract_package(name, package_path):\n",
      "    !$unicast_folder\\UniExtract.exe $package_path $name\n",
      "    \n",
      "apply_to_packages(packages, extract_package)"
     ],
     "language": "python",
     "metadata": {},
     "outputs": [
      {
       "output_type": "stream",
       "stream": "stdout",
       "text": [
        "<enum GTK_RESPONSE_OK of type GtkResponseType>\n",
        "C:\\Users\\CHRIST~1\\Documents\\GitHub\\portablepython\\tools\\uniextract16\n"
       ]
      },
      {
       "metadata": {},
       "output_type": "pyout",
       "prompt_number": 9,
       "text": [
        "[None, None, None, None, None, None, None, None, None, None, None, None, None]"
       ]
      }
     ],
     "prompt_number": 9
    },
    {
     "cell_type": "code",
     "collapsed": true,
     "input": [
      "settings_bat_out = StringIO()\n",
      "modules_bat_out = StringIO()\n",
      "\n",
      "for p in packages:\n",
      "    match = cre_package.search(p.name)\n",
      "    if match:\n",
      "        name = match.group('name').replace('-', '_')\n",
      "        url_prefix = 'http://microfluidics.utoronto.ca/software/pythonlibs/'\n",
      "        print >> settings_bat_out, 'set %s_DOWNLOAD=\"%s%s\"' % (\n",
      "            name.upper(), url_prefix, p.name)\n",
      "        print >> settings_bat_out, 'set %s_FILE=%s' % (name.upper(), p.name)\n",
      "        print >> settings_bat_out, ''\n",
      "        \n",
      "#         print jinja2.Template(module_bat_template).render(name='numpy')\n",
      "print ':: Paste the following to `settings.bat`'\n",
      "print settings_bat_out.getvalue()"
     ],
     "language": "python",
     "metadata": {},
     "outputs": [
      {
       "output_type": "stream",
       "stream": "stdout",
       "text": [
        ":: Paste the following to `settings.bat`\n",
        "set GEVENT_DOWNLOAD=\"http://microfluidics.utoronto.ca/software/pythonlibs/gevent-1.0.1.win32-py2.7.exe\"\n",
        "set GEVENT_FILE=gevent-1.0.1.win32-py2.7.exe\n",
        "\n",
        "set MATPLOTLIB_DOWNLOAD=\"http://microfluidics.utoronto.ca/software/pythonlibs/matplotlib-1.4.2.win32-py2.7.exe\"\n",
        "set MATPLOTLIB_FILE=matplotlib-1.4.2.win32-py2.7.exe\n",
        "\n",
        "set NUMEXPR_DOWNLOAD=\"http://microfluidics.utoronto.ca/software/pythonlibs/numexpr-2.4.win32-py2.7.exe\"\n",
        "set NUMEXPR_FILE=numexpr-2.4.win32-py2.7.exe\n",
        "\n",
        "set NUMPY_DOWNLOAD=\"http://microfluidics.utoronto.ca/software/pythonlibs/numpy-MKL-1.9.1.win32-py2.7.exe\"\n",
        "set NUMPY_FILE=numpy-MKL-1.9.1.win32-py2.7.exe\n",
        "\n",
        "set PANDAS_DOWNLOAD=\"http://microfluidics.utoronto.ca/software/pythonlibs/pandas-0.15.1.win32-py2.7.exe\"\n",
        "set PANDAS_FILE=pandas-0.15.1.win32-py2.7.exe\n",
        "\n",
        "set PILLOW_DOWNLOAD=\"http://microfluidics.utoronto.ca/software/pythonlibs/Pillow-2.6.1.win32-py2.7.exe\"\n",
        "set PILLOW_FILE=Pillow-2.6.1.win32-py2.7.exe\n",
        "\n",
        "set PYSERIAL_DOWNLOAD=\"http://microfluidics.utoronto.ca/software/pythonlibs/pyserial-2.7.win32-py2.7.exe\"\n",
        "set PYSERIAL_FILE=pyserial-2.7.win32-py2.7.exe\n",
        "\n",
        "set PYTHON_DATEUTIL_DOWNLOAD=\"http://microfluidics.utoronto.ca/software/pythonlibs/python-dateutil-2.2.win32-py2.7.exe\"\n",
        "set PYTHON_DATEUTIL_FILE=python-dateutil-2.2.win32-py2.7.exe\n",
        "\n",
        "set PYTZ_DOWNLOAD=\"http://microfluidics.utoronto.ca/software/pythonlibs/pytz-2014.10.win32-py2.7.exe\"\n",
        "set PYTZ_FILE=pytz-2014.10.win32-py2.7.exe\n",
        "\n",
        "set PYVISA_DOWNLOAD=\"http://microfluidics.utoronto.ca/software/pythonlibs/PyVISA-1.6.win32-py2.7.exe\"\n",
        "set PYVISA_FILE=PyVISA-1.6.win32-py2.7.exe\n",
        "\n",
        "set SCIPY_DOWNLOAD=\"http://microfluidics.utoronto.ca/software/pythonlibs/scipy-0.15.0b1.win32-py2.7.exe\"\n",
        "set SCIPY_FILE=scipy-0.15.0b1.win32-py2.7.exe\n",
        "\n",
        "set SYMPY_DOWNLOAD=\"http://microfluidics.utoronto.ca/software/pythonlibs/sympy-0.7.6.win32-py2.7.exe\"\n",
        "set SYMPY_FILE=sympy-0.7.6.win32-py2.7.exe\n",
        "\n",
        "set TABLES_DOWNLOAD=\"http://microfluidics.utoronto.ca/software/pythonlibs/tables-3.1.1.win32-py2.7.exe\"\n",
        "set TABLES_FILE=tables-3.1.1.win32-py2.7.exe\n",
        "\n",
        "\n"
       ]
      }
     ],
     "prompt_number": 21
    },
    {
     "cell_type": "code",
     "collapsed": false,
     "input": [
      "module_bat_template = '''\\\n",
      ":::::::::::::::::::::::::::::::::::::::::::::::::::::::::::::::::::::::::::\n",
      ":Unpack{{ name.title() }}\n",
      "::\n",
      ":: By:   Christian Fobel\n",
      ":: Func: Downloads and extracts {{ name.lower() }}\n",
      ":: Args: none\n",
      ":::::::::::::::::::::::::::::::::::::::::::::::::::::::::::::::::::::::::::\n",
      "setlocal ENABLEEXTENSIONS\n",
      "\n",
      ":: Download \n",
      "call COMMON :DownloadFile %{{ name.upper() }}_DOWNLOAD%\n",
      "\n",
      ":: Unpack files\n",
      "call COMMON :LogMessage \"Extracting {{ name.lower() }} files\"\n",
      "tools\\uniextract16\\UniExtract.exe \"%BIN_FOLDER%\\%{{ name.upper() }}_FILE%\" %UNPACK_FOLDER%\\{{ name.lower() }}\\ >NUL\n",
      "\n",
      ":: Fix\n",
      "call COMMON :FixMSCRT %UNPACK_FOLDER%\\{{ name.lower() }}\\\n",
      "\n",
      "endlocal&goto :EOF\n",
      ":::::::::::::::::::::::::::::::::::::::::::::::::::::::::::::::::::::::::::\n",
      "'''\n",
      "\n",
      "\n",
      "def unpack_template(name, package_path):\n",
      "    return name, jinja2.Template(module_bat_template).render(name=name)\n",
      "    \n",
      "\n",
      "print ':: Paste the following to `modules.bat`'\n",
      "for name in apply_to_packages(packages, lambda name, *args: name):\n",
      "    print 'call :Unpack' + name.title()\n",
      "print ''\n",
      "    \n",
      "for name, template in apply_to_packages(packages, unpack_template):\n",
      "    print template\n",
      "#         !$unicast_folder\\UniExtract.exe $p $name"
     ],
     "language": "python",
     "metadata": {},
     "outputs": [
      {
       "output_type": "stream",
       "stream": "stdout",
       "text": [
        ":: Paste the following to `modules.bat`\n",
        "call :UnpackGevent\n",
        "call :UnpackMatplotlib\n",
        "call :UnpackNumexpr\n",
        "call :UnpackNumpy\n",
        "call :UnpackPandas\n",
        "call :UnpackPillow\n",
        "call :UnpackPyserial\n",
        "call :UnpackPython_Dateutil\n",
        "call :UnpackPytz\n",
        "call :UnpackPyvisa\n",
        "call :UnpackScipy\n",
        "call :UnpackSympy\n",
        "call :UnpackTables\n",
        "\n",
        ":::::::::::::::::::::::::::::::::::::::::::::::::::::::::::::::::::::::::::\n",
        ":UnpackGevent\n",
        "::\n",
        ":: By:   Christian Fobel\n",
        ":: Func: Downloads and extracts gevent\n",
        ":: Args: none\n",
        ":::::::::::::::::::::::::::::::::::::::::::::::::::::::::::::::::::::::::::\n",
        "setlocal ENABLEEXTENSIONS\n",
        "\n",
        ":: Download \n",
        "call COMMON :DownloadFile %GEVENT_DOWNLOAD%\n",
        "\n",
        ":: Unpack files\n",
        "call COMMON :LogMessage \"Extracting gevent files\"\n",
        "tools\\uniextract16\\UniExtract.exe \"%BIN_FOLDER%\\%GEVENT_FILE%\" %UNPACK_FOLDER%\\gevent\\ >NUL\n",
        "\n",
        ":: Fix\n",
        "call COMMON :FixMSCRT %UNPACK_FOLDER%\\gevent\n",
        "endlocal&goto :EOF\n",
        ":::::::::::::::::::::::::::::::::::::::::::::::::::::::::::::::::::::::::::"
       ]
      },
      {
       "output_type": "stream",
       "stream": "stdout",
       "text": [
        "\n",
        ":::::::::::::::::::::::::::::::::::::::::::::::::::::::::::::::::::::::::::\n",
        ":UnpackMatplotlib\n",
        "::\n",
        ":: By:   Christian Fobel\n",
        ":: Func: Downloads and extracts matplotlib\n",
        ":: Args: none\n",
        ":::::::::::::::::::::::::::::::::::::::::::::::::::::::::::::::::::::::::::\n",
        "setlocal ENABLEEXTENSIONS\n",
        "\n",
        ":: Download \n",
        "call COMMON :DownloadFile %MATPLOTLIB_DOWNLOAD%\n",
        "\n",
        ":: Unpack files\n",
        "call COMMON :LogMessage \"Extracting matplotlib files\"\n",
        "tools\\uniextract16\\UniExtract.exe \"%BIN_FOLDER%\\%MATPLOTLIB_FILE%\" %UNPACK_FOLDER%\\matplotlib\\ >NUL\n",
        "\n",
        ":: Fix\n",
        "call COMMON :FixMSCRT %UNPACK_FOLDER%\\matplotlib\n",
        "endlocal&goto :EOF\n",
        ":::::::::::::::::::::::::::::::::::::::::::::::::::::::::::::::::::::::::::\n",
        ":::::::::::::::::::::::::::::::::::::::::::::::::::::::::::::::::::::::::::\n",
        ":UnpackNumexpr\n",
        "::\n",
        ":: By:   Christian Fobel\n",
        ":: Func: Downloads and extracts numexpr\n",
        ":: Args: none\n",
        ":::::::::::::::::::::::::::::::::::::::::::::::::::::::::::::::::::::::::::\n",
        "setlocal ENABLEEXTENSIONS\n",
        "\n",
        ":: Download \n",
        "call COMMON :DownloadFile %NUMEXPR_DOWNLOAD%\n",
        "\n",
        ":: Unpack files\n",
        "call COMMON :LogMessage \"Extracting numexpr files\"\n",
        "tools\\uniextract16\\UniExtract.exe \"%BIN_FOLDER%\\%NUMEXPR_FILE%\" %UNPACK_FOLDER%\\numexpr\\ >NUL\n",
        "\n",
        ":: Fix\n",
        "call COMMON :FixMSCRT %UNPACK_FOLDER%\\numexpr\n",
        "endlocal&goto :EOF\n",
        ":::::::::::::::::::::::::::::::::::::::::::::::::::::::::::::::::::::::::::\n",
        ":::::::::::::::::::::::::::::::::::::::::::::::::::::::::::::::::::::::::::\n",
        ":UnpackNumpy\n",
        "::\n",
        ":: By:   Christian Fobel\n",
        ":: Func: Downloads and extracts numpy\n",
        ":: Args: none\n",
        ":::::::::::::::::::::::::::::::::::::::::::::::::::::::::::::::::::::::::::\n",
        "setlocal ENABLEEXTENSIONS\n",
        "\n",
        ":: Download \n",
        "call COMMON :DownloadFile %NUMPY_DOWNLOAD%\n",
        "\n",
        ":: Unpack files\n",
        "call COMMON :LogMessage \"Extracting numpy files\"\n",
        "tools\\uniextract16\\UniExtract.exe \"%BIN_FOLDER%\\%NUMPY_FILE%\" %UNPACK_FOLDER%\\numpy\\ >NUL\n",
        "\n",
        ":: Fix\n",
        "call COMMON :FixMSCRT %UNPACK_FOLDER%\\numpy\n",
        "endlocal&goto :EOF\n",
        ":::::::::::::::::::::::::::::::::::::::::::::::::::::::::::::::::::::::::::\n",
        ":::::::::::::::::::::::::::::::::::::::::::::::::::::::::::::::::::::::::::\n",
        ":UnpackPandas\n",
        "::\n",
        ":: By:   Christian Fobel\n",
        ":: Func: Downloads and extracts pandas\n",
        ":: Args: none\n",
        ":::::::::::::::::::::::::::::::::::::::::::::::::::::::::::::::::::::::::::\n",
        "setlocal ENABLEEXTENSIONS\n",
        "\n",
        ":: Download \n",
        "call COMMON :DownloadFile %PANDAS_DOWNLOAD%\n",
        "\n",
        ":: Unpack files\n",
        "call COMMON :LogMessage \"Extracting pandas files\"\n",
        "tools\\uniextract16\\UniExtract.exe \"%BIN_FOLDER%\\%PANDAS_FILE%\" %UNPACK_FOLDER%\\pandas\\ >NUL\n",
        "\n",
        ":: Fix\n",
        "call COMMON :FixMSCRT %UNPACK_FOLDER%\\pandas\n",
        "endlocal&goto :EOF\n",
        ":::::::::::::::::::::::::::::::::::::::::::::::::::::::::::::::::::::::::::\n",
        ":::::::::::::::::::::::::::::::::::::::::::::::::::::::::::::::::::::::::::\n",
        ":UnpackPillow\n",
        "::\n",
        ":: By:   Christian Fobel\n",
        ":: Func: Downloads and extracts pillow\n",
        ":: Args: none\n",
        ":::::::::::::::::::::::::::::::::::::::::::::::::::::::::::::::::::::::::::\n",
        "setlocal ENABLEEXTENSIONS\n",
        "\n",
        ":: Download \n",
        "call COMMON :DownloadFile %PILLOW_DOWNLOAD%\n",
        "\n",
        ":: Unpack files\n",
        "call COMMON :LogMessage \"Extracting pillow files\"\n",
        "tools\\uniextract16\\UniExtract.exe \"%BIN_FOLDER%\\%PILLOW_FILE%\" %UNPACK_FOLDER%\\pillow\\ >NUL\n",
        "\n",
        ":: Fix\n",
        "call COMMON :FixMSCRT %UNPACK_FOLDER%\\pillow\n",
        "endlocal&goto :EOF\n",
        ":::::::::::::::::::::::::::::::::::::::::::::::::::::::::::::::::::::::::::\n",
        ":::::::::::::::::::::::::::::::::::::::::::::::::::::::::::::::::::::::::::\n",
        ":UnpackPyserial\n",
        "::\n",
        ":: By:   Christian Fobel\n",
        ":: Func: Downloads and extracts pyserial\n",
        ":: Args: none\n",
        ":::::::::::::::::::::::::::::::::::::::::::::::::::::::::::::::::::::::::::\n",
        "setlocal ENABLEEXTENSIONS\n",
        "\n",
        ":: Download \n",
        "call COMMON :DownloadFile %PYSERIAL_DOWNLOAD%\n",
        "\n",
        ":: Unpack files\n",
        "call COMMON :LogMessage \"Extracting pyserial files\"\n",
        "tools\\uniextract16\\UniExtract.exe \"%BIN_FOLDER%\\%PYSERIAL_FILE%\" %UNPACK_FOLDER%\\pyserial\\ >NUL\n",
        "\n",
        ":: Fix\n",
        "call COMMON :FixMSCRT %UNPACK_FOLDER%\\pyserial\n",
        "endlocal&goto :EOF\n",
        ":::::::::::::::::::::::::::::::::::::::::::::::::::::::::::::::::::::::::::\n",
        ":::::::::::::::::::::::::::::::::::::::::::::::::::::::::::::::::::::::::::\n",
        ":UnpackPython_Dateutil\n",
        "::\n",
        ":: By:   Christian Fobel\n",
        ":: Func: Downloads and extracts python_dateutil\n",
        ":: Args: none\n",
        ":::::::::::::::::::::::::::::::::::::::::::::::::::::::::::::::::::::::::::\n",
        "setlocal ENABLEEXTENSIONS\n",
        "\n",
        ":: Download \n",
        "call COMMON :DownloadFile %PYTHON_DATEUTIL_DOWNLOAD%\n",
        "\n",
        ":: Unpack files\n",
        "call COMMON :LogMessage \"Extracting python_dateutil files\"\n",
        "tools\\uniextract16\\UniExtract.exe \"%BIN_FOLDER%\\%PYTHON_DATEUTIL_FILE%\" %UNPACK_FOLDER%\\python_dateutil\\ >NUL\n",
        "\n",
        ":: Fix\n",
        "call COMMON :FixMSCRT %UNPACK_FOLDER%\\python_dateutil\n",
        "endlocal&goto :EOF\n",
        ":::::::::::::::::::::::::::::::::::::::::::::::::::::::::::::::::::::::::::\n",
        ":::::::::::::::::::::::::::::::::::::::::::::::::::::::::::::::::::::::::::\n",
        ":UnpackPytz\n",
        "::\n",
        ":: By:   Christian Fobel\n",
        ":: Func: Downloads and extracts pytz\n",
        ":: Args: none\n",
        ":::::::::::::::::::::::::::::::::::::::::::::::::::::::::::::::::::::::::::\n",
        "setlocal ENABLEEXTENSIONS\n",
        "\n",
        ":: Download \n",
        "call COMMON :DownloadFile %PYTZ_DOWNLOAD%\n",
        "\n",
        ":: Unpack files\n",
        "call COMMON :LogMessage \"Extracting pytz files\"\n",
        "tools\\uniextract16\\UniExtract.exe \"%BIN_FOLDER%\\%PYTZ_FILE%\" %UNPACK_FOLDER%\\pytz\\ >NUL\n",
        "\n",
        ":: Fix\n",
        "call COMMON :FixMSCRT %UNPACK_FOLDER%\\pytz\n",
        "endlocal&goto :EOF\n",
        ":::::::::::::::::::::::::::::::::::::::::::::::::::::::::::::::::::::::::::\n",
        ":::::::::::::::::::::::::::::::::::::::::::::::::::::::::::::::::::::::::::\n",
        ":UnpackPyvisa\n",
        "::\n",
        ":: By:   Christian Fobel\n",
        ":: Func: Downloads and extracts pyvisa\n",
        ":: Args: none\n",
        ":::::::::::::::::::::::::::::::::::::::::::::::::::::::::::::::::::::::::::\n",
        "setlocal ENABLEEXTENSIONS\n",
        "\n",
        ":: Download \n",
        "call COMMON :DownloadFile %PYVISA_DOWNLOAD%\n",
        "\n",
        ":: Unpack files\n",
        "call COMMON :LogMessage \"Extracting pyvisa files\"\n",
        "tools\\uniextract16\\UniExtract.exe \"%BIN_FOLDER%\\%PYVISA_FILE%\" %UNPACK_FOLDER%\\pyvisa\\ >NUL\n",
        "\n",
        ":: Fix\n",
        "call COMMON :FixMSCRT %UNPACK_FOLDER%\\pyvisa\n",
        "endlocal&goto :EOF\n",
        ":::::::::::::::::::::::::::::::::::::::::::::::::::::::::::::::::::::::::::\n",
        ":::::::::::::::::::::::::::::::::::::::::::::::::::::::::::::::::::::::::::\n",
        ":UnpackScipy\n",
        "::\n",
        ":: By:   Christian Fobel\n",
        ":: Func: Downloads and extracts scipy\n",
        ":: Args: none\n",
        ":::::::::::::::::::::::::::::::::::::::::::::::::::::::::::::::::::::::::::\n",
        "setlocal ENABLEEXTENSIONS\n",
        "\n",
        ":: Download \n",
        "call COMMON :DownloadFile %SCIPY_DOWNLOAD%\n",
        "\n",
        ":: Unpack files\n",
        "call COMMON :LogMessage \"Extracting scipy files\"\n",
        "tools\\uniextract16\\UniExtract.exe \"%BIN_FOLDER%\\%SCIPY_FILE%\" %UNPACK_FOLDER%\\scipy\\ >NUL\n",
        "\n",
        ":: Fix\n",
        "call COMMON :FixMSCRT %UNPACK_FOLDER%\\scipy\n",
        "endlocal&goto :EOF\n",
        ":::::::::::::::::::::::::::::::::::::::::::::::::::::::::::::::::::::::::::\n",
        ":::::::::::::::::::::::::::::::::::::::::::::::::::::::::::::::::::::::::::\n",
        ":UnpackSympy\n",
        "::\n",
        ":: By:   Christian Fobel\n",
        ":: Func: Downloads and extracts sympy\n",
        ":: Args: none\n",
        ":::::::::::::::::::::::::::::::::::::::::::::::::::::::::::::::::::::::::::\n",
        "setlocal ENABLEEXTENSIONS\n",
        "\n",
        ":: Download \n",
        "call COMMON :DownloadFile %SYMPY_DOWNLOAD%\n",
        "\n",
        ":: Unpack files\n",
        "call COMMON :LogMessage \"Extracting sympy files\"\n",
        "tools\\uniextract16\\UniExtract.exe \"%BIN_FOLDER%\\%SYMPY_FILE%\" %UNPACK_FOLDER%\\sympy\\ >NUL\n",
        "\n",
        ":: Fix\n",
        "call COMMON :FixMSCRT %UNPACK_FOLDER%\\sympy\n",
        "endlocal&goto :EOF\n",
        ":::::::::::::::::::::::::::::::::::::::::::::::::::::::::::::::::::::::::::\n",
        ":::::::::::::::::::::::::::::::::::::::::::::::::::::::::::::::::::::::::::\n",
        ":UnpackTables\n",
        "::\n",
        ":: By:   Christian Fobel\n",
        ":: Func: Downloads and extracts tables\n",
        ":: Args: none\n",
        ":::::::::::::::::::::::::::::::::::::::::::::::::::::::::::::::::::::::::::\n",
        "setlocal ENABLEEXTENSIONS\n",
        "\n",
        ":: Download \n",
        "call COMMON :DownloadFile %TABLES_DOWNLOAD%\n",
        "\n",
        ":: Unpack files\n",
        "call COMMON :LogMessage \"Extracting tables files\"\n",
        "tools\\uniextract16\\UniExtract.exe \"%BIN_FOLDER%\\%TABLES_FILE%\" %UNPACK_FOLDER%\\tables\\ >NUL\n",
        "\n",
        ":: Fix\n",
        "call COMMON :FixMSCRT %UNPACK_FOLDER%\\tables\n",
        "endlocal&goto :EOF\n",
        ":::::::::::::::::::::::::::::::::::::::::::::::::::::::::::::::::::::::::::\n"
       ]
      }
     ],
     "prompt_number": 22
    },
    {
     "cell_type": "code",
     "collapsed": false,
     "input": [
      "def find_dirs(name, package_path):\n",
      "    return name, [p.name for p in path(folder).joinpath(name).dirs()]\n",
      "\n",
      "\n",
      "def package_template(name, package_path):\n",
      "    template = '''\\\n",
      "    Section \"{{ name.title() }}\" MODULE_{{ name.upper() }}\n",
      "        SectionIn 1 2 3 RO\n",
      "    {%- for dir in dirs if dir in ('PLATLIB', 'PURELIB', 'DATA', 'SCRIPTS') %}\n",
      "        {%- if dir in ('PLATLIB', 'PURELIB') %}\n",
      "        SetOutPath \"$INSTDIR\\App\\Lib\\site-packages\\\"\n",
      "        {%- elif dir == 'SCRIPTS' %}\n",
      "        SetOutPath \"$INSTDIR\\App\\Scripts\\\"\n",
      "        {%- elif dir == 'DATA' %}\n",
      "        SetOutPath \"$INSTDIR\\App\\\"\n",
      "        {%- endif %}\n",
      "        File /r \"${SOURCESFOLDER}\\{{ name }}\\{{ dir }}\\*.*\"\n",
      "    {%- endfor %}\n",
      "    SectionEnd'''\n",
      "    name, dirs = find_dirs(name, package_path)\n",
      "    return name, jinja2.Template(template).render(name=name, dirs=dirs)\n",
      "    \n",
      "\n",
      "print '; Paste the following to `modules.nsh`'\n",
      "for name, template in apply_to_packages(packages, package_template):\n",
      "    print template"
     ],
     "language": "python",
     "metadata": {},
     "outputs": [
      {
       "output_type": "stream",
       "stream": "stdout",
       "text": [
        "; Paste the following to `modules.nsh`\n",
        "    Section \"Gevent\" MODULE_GEVENT\n",
        "        SectionIn 1 2 3 RO\n",
        "        SetOutPath \"$INSTDIR\\App\\Lib\\site-packages\"\n",
        "        File /r \"${SOURCESFOLDER}\\gevent\\PLATLIB\\*.*\"\n",
        "    SectionEnd"
       ]
      },
      {
       "output_type": "stream",
       "stream": "stdout",
       "text": [
        "\n",
        "    Section \"Matplotlib\" MODULE_MATPLOTLIB\n",
        "        SectionIn 1 2 3 RO\n",
        "        SetOutPath \"$INSTDIR\\App\\Lib\\site-packages\"\n",
        "        File /r \"${SOURCESFOLDER}\\matplotlib\\PLATLIB\\*.*\"\n",
        "    SectionEnd\n",
        "    Section \"Numexpr\" MODULE_NUMEXPR\n",
        "        SectionIn 1 2 3 RO\n",
        "        SetOutPath \"$INSTDIR\\App\\Lib\\site-packages\"\n",
        "        File /r \"${SOURCESFOLDER}\\numexpr\\PLATLIB\\*.*\"\n",
        "    SectionEnd\n",
        "    Section \"Numpy\" MODULE_NUMPY\n",
        "        SectionIn 1 2 3 RO\n",
        "        SetOutPath \"$INSTDIR\\App\\Lib\\site-packages\"\n",
        "        File /r \"${SOURCESFOLDER}\\numpy\\PLATLIB\\*.*\"\n",
        "        SetOutPath \"$INSTDIR\\App\\Scripts\"\n",
        "        File /r \"${SOURCESFOLDER}\\numpy\\SCRIPTS\\*.*\"\n",
        "    SectionEnd\n",
        "    Section \"Pandas\" MODULE_PANDAS\n",
        "        SectionIn 1 2 3 RO\n",
        "        SetOutPath \"$INSTDIR\\App\\Lib\\site-packages\"\n",
        "        File /r \"${SOURCESFOLDER}\\pandas\\PLATLIB\\*.*\"\n",
        "    SectionEnd\n",
        "    Section \"Pillow\" MODULE_PILLOW\n",
        "        SectionIn 1 2 3 RO\n",
        "        SetOutPath \"$INSTDIR\\App\\Lib\\site-packages\"\n",
        "        File /r \"${SOURCESFOLDER}\\Pillow\\PLATLIB\\*.*\"\n",
        "        SetOutPath \"$INSTDIR\\App\\Scripts\"\n",
        "        File /r \"${SOURCESFOLDER}\\Pillow\\SCRIPTS\\*.*\"\n",
        "    SectionEnd\n",
        "    Section \"Pyserial\" MODULE_PYSERIAL\n",
        "        SectionIn 1 2 3 RO\n",
        "        SetOutPath \"$INSTDIR\\App\\Lib\\site-packages\"\n",
        "        File /r \"${SOURCESFOLDER}\\pyserial\\PURELIB\\*.*\"\n",
        "        SetOutPath \"$INSTDIR\\App\\Scripts\"\n",
        "        File /r \"${SOURCESFOLDER}\\pyserial\\SCRIPTS\\*.*\"\n",
        "    SectionEnd\n",
        "    Section \"Python_Dateutil\" MODULE_PYTHON_DATEUTIL\n",
        "        SectionIn 1 2 3 RO\n",
        "        SetOutPath \"$INSTDIR\\App\\Lib\\site-packages\"\n",
        "        File /r \"${SOURCESFOLDER}\\python_dateutil\\PURELIB\\*.*\"\n",
        "    SectionEnd\n",
        "    Section \"Pytz\" MODULE_PYTZ\n",
        "        SectionIn 1 2 3 RO\n",
        "        SetOutPath \"$INSTDIR\\App\\Lib\\site-packages\"\n",
        "        File /r \"${SOURCESFOLDER}\\pytz\\PURELIB\\*.*\"\n",
        "    SectionEnd\n",
        "    Section \"Pyvisa\" MODULE_PYVISA\n",
        "        SectionIn 1 2 3 RO\n",
        "        SetOutPath \"$INSTDIR\\App\\Lib\\site-packages\"\n",
        "        File /r \"${SOURCESFOLDER}\\PyVISA\\PURELIB\\*.*\"\n",
        "    SectionEnd\n",
        "    Section \"Scipy\" MODULE_SCIPY\n",
        "        SectionIn 1 2 3 RO\n",
        "        SetOutPath \"$INSTDIR\\App\\Lib\\site-packages\"\n",
        "        File /r \"${SOURCESFOLDER}\\scipy\\PLATLIB\\*.*\"\n",
        "    SectionEnd\n",
        "    Section \"Sympy\" MODULE_SYMPY\n",
        "        SectionIn 1 2 3 RO\n",
        "        SetOutPath \"$INSTDIR\\App\"\n",
        "        File /r \"${SOURCESFOLDER}\\sympy\\DATA\\*.*\"\n",
        "        SetOutPath \"$INSTDIR\\App\\Lib\\site-packages\"\n",
        "        File /r \"${SOURCESFOLDER}\\sympy\\PURELIB\\*.*\"\n",
        "        SetOutPath \"$INSTDIR\\App\\Scripts\"\n",
        "        File /r \"${SOURCESFOLDER}\\sympy\\SCRIPTS\\*.*\"\n",
        "    SectionEnd\n",
        "    Section \"Tables\" MODULE_TABLES\n",
        "        SectionIn 1 2 3 RO\n",
        "        SetOutPath \"$INSTDIR\\App\"\n",
        "        File /r \"${SOURCESFOLDER}\\tables\\DATA\\*.*\"\n",
        "        SetOutPath \"$INSTDIR\\App\\Lib\\site-packages\"\n",
        "        File /r \"${SOURCESFOLDER}\\tables\\PLATLIB\\*.*\"\n",
        "        SetOutPath \"$INSTDIR\\App\\Scripts\"\n",
        "        File /r \"${SOURCESFOLDER}\\tables\\SCRIPTS\\*.*\"\n",
        "    SectionEnd\n"
       ]
      }
     ],
     "prompt_number": 25
    }
   ],
   "metadata": {}
  }
 ]
}